{
 "cells": [
  {
   "cell_type": "code",
   "execution_count": 380,
   "id": "28ede86c",
   "metadata": {},
   "outputs": [],
   "source": [
    "import numpy as np\n",
    "import pandas as pd"
   ]
  },
  {
   "cell_type": "code",
   "execution_count": 381,
   "id": "8d8866b6",
   "metadata": {},
   "outputs": [],
   "source": [
    "columns = [f\"Feature{i}\" for i in range(784)]\n",
    "labels = [f\"label{i}\" for i in range(10)]\n",
    "\n",
    "X_train = pd.read_csv(\"/home/mllab/Downloads/train_X.csv\", names = columns)\n",
    "X_test = pd.read_csv(\"/home/mllab/Downloads/test_X.csv\", names = columns)\n",
    "y_train = pd.read_csv(\"/home/mllab/Downloads/train_label.csv\", names = labels).to_numpy()\n",
    "y_test = pd.read_csv(\"/home/mllab/Downloads/test_label.csv\", names = labels).to_numpy()"
   ]
  },
  {
   "cell_type": "code",
   "execution_count": 402,
   "id": "e2d635cd",
   "metadata": {},
   "outputs": [],
   "source": [
    "X_train = X_train / 255.0\n",
    "X_test = X_test / 255.0"
   ]
  },
  {
   "cell_type": "code",
   "execution_count": 403,
   "id": "4f7b7622",
   "metadata": {},
   "outputs": [],
   "source": [
    "def parameter_initialize(layer_dims):\n",
    "    np.random.seed(1)\n",
    "    parameters = {}\n",
    "    for l in range(1, len(layer_dims)):\n",
    "        parameters['W' + str(l)] = np.random.randn(layer_dims[l], layer_dims[l-1]) * 0.01\n",
    "        parameters['b' + str(l)] = np.zeros((layer_dims[l], 1))\n",
    "    return parameters"
   ]
  },
  {
   "cell_type": "code",
   "execution_count": 404,
   "id": "acc602f8",
   "metadata": {},
   "outputs": [],
   "source": [
    "def ReLU(Z):\n",
    "    return np.maximum(0, Z)"
   ]
  },
  {
   "cell_type": "code",
   "execution_count": 405,
   "id": "13e99b35",
   "metadata": {},
   "outputs": [],
   "source": [
    "def softmax(Z):\n",
    "    expZ = np.exp(Z - np.max(Z, axis = 0, keepdims = True))\n",
    "    return expZ / expZ.sum(axis = 0, keepdims = True)"
   ]
  },
  {
   "cell_type": "code",
   "execution_count": 406,
   "id": "198ade60",
   "metadata": {},
   "outputs": [],
   "source": [
    "def forward_propagation(X, parameters):\n",
    "    caches = {}\n",
    "    A = X.T\n",
    "    L = len(parameters) // 2 \n",
    "    \n",
    "    for l in range(1, L):\n",
    "        Z = parameters['W' + str(l)].dot(A) + parameters['b' + str(l)]\n",
    "        A = ReLU(Z)\n",
    "        caches['A' + str(l)] = A\n",
    "        caches['Z' + str(l)] = Z\n",
    "\n",
    "    ZL = parameters['W' + str(L)].dot(A) + parameters['b' + str(L)]\n",
    "    AL = softmax(ZL)\n",
    "    caches['A' + str(L)] = AL\n",
    "    caches['Z' + str(L)] = ZL\n",
    "\n",
    "    return AL, caches"
   ]
  },
  {
   "cell_type": "code",
   "execution_count": 407,
   "id": "e4109c86",
   "metadata": {},
   "outputs": [],
   "source": [
    "def compute_cost(AL, y):\n",
    "    m = y.shape[0]\n",
    "    cost = -np.sum(y.T * np.log(AL + 1e-8)) / m\n",
    "    return np.squeeze(cost)"
   ]
  },
  {
   "cell_type": "code",
   "execution_count": 408,
   "id": "590cb737",
   "metadata": {},
   "outputs": [],
   "source": [
    "def ReLU_derivative(Z):\n",
    "    return Z > 0"
   ]
  },
  {
   "cell_type": "code",
   "execution_count": 409,
   "id": "463b5cab",
   "metadata": {},
   "outputs": [],
   "source": [
    "def backward_propagation(X, y, caches, parameters):\n",
    "    grads = {}\n",
    "    L = len(parameters) // 2\n",
    "    m = X.shape[0]\n",
    "    y = y.T\n",
    "    A_prev = X.T\n",
    "\n",
    "    dZL = caches['A' + str(L)] - y\n",
    "    grads['dW' + str(L)] = dZL.dot(caches['A' + str(L-1)].T) / m\n",
    "    grads['db' + str(L)] = np.sum(dZL, axis = 1, keepdims = True) / m\n",
    "\n",
    "    for l in reversed(range(1, L)):\n",
    "        dA = parameters['W' + str(l+1)].T.dot(dZL)\n",
    "        dZ = dA * ReLU_derivative(caches['Z' + str(l)])\n",
    "        A_prev = X.T if l == 1 else caches['A' + str(l-1)]\n",
    "        grads['dW' + str(l)] = dZ.dot(A_prev.T) / m\n",
    "        grads['db' + str(l)] = np.sum(dZ, axis = 1, keepdims = True) / m\n",
    "        dZL = dZ\n",
    "\n",
    "    return grads"
   ]
  },
  {
   "cell_type": "code",
   "execution_count": 410,
   "id": "1579a0cc",
   "metadata": {},
   "outputs": [],
   "source": [
    "def update_parameters(parameters, grads, learning_rate):\n",
    "    L = len(parameters) // 2\n",
    "    for l in range(1, L + 1):\n",
    "        parameters['W' + str(l)] -= learning_rate * grads['dW' + str(l)]\n",
    "        parameters['b' + str(l)] -= learning_rate * grads['db' + str(l)]\n",
    "    return parameters"
   ]
  },
  {
   "cell_type": "code",
   "execution_count": 411,
   "id": "dcdc72b9",
   "metadata": {},
   "outputs": [],
   "source": [
    "def model(X, y, layer_dims, learning_rate = 0.01, num_epochs = 100):\n",
    "    parameters = parameter_initialize(layer_dims)\n",
    "    \n",
    "    for epoch in range(num_epochs):\n",
    "\n",
    "        AL, caches = forward_propagation(X, parameters)\n",
    "        \n",
    "        cost = compute_cost(AL, y)\n",
    "        \n",
    "        grads = backward_propagation(X, y, caches, parameters)\n",
    "        \n",
    "        parameters = update_parameters(parameters, grads, learning_rate)\n",
    "        \n",
    "        if epoch % 10 == 0:\n",
    "            print(f\"Cost after epoch {epoch}: {cost:.4f}\")\n",
    "    \n",
    "    return parameters"
   ]
  },
  {
   "cell_type": "code",
   "execution_count": 412,
   "id": "7177a4e0",
   "metadata": {},
   "outputs": [],
   "source": [
    "def predict(X, parameters):\n",
    "    AL, _ = forward_propagation(X, parameters)\n",
    "    predictions = np.argmax(AL, axis = 0)\n",
    "    return predictions"
   ]
  },
  {
   "cell_type": "code",
   "execution_count": 413,
   "id": "3721fa20",
   "metadata": {},
   "outputs": [],
   "source": [
    "def accuracy(predictions, y):\n",
    "    true_labels = np.argmax(y, axis = 1)\n",
    "    \n",
    "    return np.mean(predictions == true_labels)"
   ]
  },
  {
   "cell_type": "code",
   "execution_count": 414,
   "id": "84a2f0b1",
   "metadata": {},
   "outputs": [
    {
     "name": "stdout",
     "output_type": "stream",
     "text": [
      "Cost after epoch 0: 2.3024\n",
      "Cost after epoch 10: 2.2914\n",
      "Cost after epoch 20: 2.2745\n",
      "Cost after epoch 30: 2.2436\n",
      "Cost after epoch 40: 2.1872\n",
      "Cost after epoch 50: 2.0924\n",
      "Cost after epoch 60: 1.9522\n",
      "Cost after epoch 70: 1.7723\n",
      "Cost after epoch 80: 1.5733\n",
      "Cost after epoch 90: 1.3817\n",
      "Cost after epoch 100: 1.2147\n",
      "Cost after epoch 110: 1.0767\n",
      "Cost after epoch 120: 0.9647\n",
      "Cost after epoch 130: 0.8738\n",
      "Cost after epoch 140: 0.7994\n",
      "Cost after epoch 150: 0.7377\n",
      "Cost after epoch 160: 0.6859\n",
      "Cost after epoch 170: 0.6419\n",
      "Cost after epoch 180: 0.6040\n",
      "Cost after epoch 190: 0.5710\n",
      "Cost after epoch 200: 0.5419\n",
      "Cost after epoch 210: 0.5161\n",
      "Cost after epoch 220: 0.4930\n",
      "Cost after epoch 230: 0.4721\n",
      "Cost after epoch 240: 0.4531\n",
      "Cost after epoch 250: 0.4357\n",
      "Cost after epoch 260: 0.4197\n",
      "Cost after epoch 270: 0.4049\n",
      "Cost after epoch 280: 0.3912\n",
      "Cost after epoch 290: 0.3783\n",
      "Cost after epoch 300: 0.3662\n",
      "Cost after epoch 310: 0.3549\n",
      "Cost after epoch 320: 0.3442\n",
      "Cost after epoch 330: 0.3341\n",
      "Cost after epoch 340: 0.3244\n",
      "Cost after epoch 350: 0.3153\n",
      "Cost after epoch 360: 0.3066\n",
      "Cost after epoch 370: 0.2982\n",
      "Cost after epoch 380: 0.2902\n",
      "Cost after epoch 390: 0.2826\n",
      "Cost after epoch 400: 0.2753\n",
      "Cost after epoch 410: 0.2682\n",
      "Cost after epoch 420: 0.2614\n",
      "Cost after epoch 430: 0.2549\n",
      "Cost after epoch 440: 0.2486\n",
      "Cost after epoch 450: 0.2425\n",
      "Cost after epoch 460: 0.2366\n",
      "Cost after epoch 470: 0.2309\n",
      "Cost after epoch 480: 0.2254\n",
      "Cost after epoch 490: 0.2201\n",
      "Cost after epoch 500: 0.2149\n",
      "Cost after epoch 510: 0.2099\n",
      "Cost after epoch 520: 0.2051\n",
      "Cost after epoch 530: 0.2004\n",
      "Cost after epoch 540: 0.1958\n",
      "Cost after epoch 550: 0.1914\n",
      "Cost after epoch 560: 0.1871\n",
      "Cost after epoch 570: 0.1829\n",
      "Cost after epoch 580: 0.1789\n",
      "Cost after epoch 590: 0.1750\n",
      "Cost after epoch 600: 0.1711\n",
      "Cost after epoch 610: 0.1674\n",
      "Cost after epoch 620: 0.1638\n",
      "Cost after epoch 630: 0.1603\n",
      "Cost after epoch 640: 0.1569\n",
      "Cost after epoch 650: 0.1536\n",
      "Cost after epoch 660: 0.1503\n",
      "Cost after epoch 670: 0.1472\n",
      "Cost after epoch 680: 0.1441\n",
      "Cost after epoch 690: 0.1411\n",
      "Cost after epoch 700: 0.1382\n",
      "Cost after epoch 710: 0.1353\n",
      "Cost after epoch 720: 0.1325\n",
      "Cost after epoch 730: 0.1298\n",
      "Cost after epoch 740: 0.1272\n",
      "Cost after epoch 750: 0.1246\n",
      "Cost after epoch 760: 0.1221\n",
      "Cost after epoch 770: 0.1196\n",
      "Cost after epoch 780: 0.1172\n",
      "Cost after epoch 790: 0.1149\n",
      "Cost after epoch 800: 0.1126\n",
      "Cost after epoch 810: 0.1103\n",
      "Cost after epoch 820: 0.1082\n",
      "Cost after epoch 830: 0.1060\n",
      "Cost after epoch 840: 0.1039\n",
      "Cost after epoch 850: 0.1019\n",
      "Cost after epoch 860: 0.0999\n",
      "Cost after epoch 870: 0.0980\n",
      "Cost after epoch 880: 0.0961\n",
      "Cost after epoch 890: 0.0942\n",
      "Cost after epoch 900: 0.0924\n",
      "Cost after epoch 910: 0.0907\n",
      "Cost after epoch 920: 0.0889\n",
      "Cost after epoch 930: 0.0873\n",
      "Cost after epoch 940: 0.0856\n",
      "Cost after epoch 950: 0.0840\n",
      "Cost after epoch 960: 0.0825\n",
      "Cost after epoch 970: 0.0810\n",
      "Cost after epoch 980: 0.0795\n",
      "Cost after epoch 990: 0.0780\n",
      "Train accuracy: 99.60%\n",
      "Test accuracy: 85.71%\n"
     ]
    }
   ],
   "source": [
    "layer_dims = [784, 128, 10]\n",
    "\n",
    "parameters = model(X_train, y_train, layer_dims, learning_rate = 0.08, num_epochs = 1000)\n",
    "\n",
    "train_preds = predict(X_train, parameters)\n",
    "test_preds = predict(X_test, parameters)\n",
    "\n",
    "print(f\"Train accuracy: {accuracy(train_preds, y_train) * 100:.2f}%\")\n",
    "print(f\"Test accuracy: {accuracy(test_preds, y_test) * 100:.2f}%\")"
   ]
  },
  {
   "cell_type": "code",
   "execution_count": 441,
   "id": "ff0582f8",
   "metadata": {},
   "outputs": [
    {
     "name": "stdout",
     "output_type": "stream",
     "text": [
      "[5]\n",
      "[0, 0, 0, 0, 0, 1, 0, 0, 0, 0]\n"
     ]
    }
   ],
   "source": [
    "prediction = predict(X_test.iloc[186:187, :], parameters)\n",
    "print(prediction)\n",
    "arr = [0, 0, 0, 0, 0, 0, 0, 0, 0, 0]\n",
    "arr[prediction[0]] += 1\n",
    "print(arr)"
   ]
  },
  {
   "cell_type": "code",
   "execution_count": null,
   "id": "63aed5d2",
   "metadata": {},
   "outputs": [],
   "source": []
  },
  {
   "cell_type": "code",
   "execution_count": null,
   "id": "d4cb4e65",
   "metadata": {},
   "outputs": [],
   "source": []
  },
  {
   "cell_type": "code",
   "execution_count": null,
   "id": "1d409de5",
   "metadata": {},
   "outputs": [],
   "source": []
  },
  {
   "cell_type": "code",
   "execution_count": null,
   "id": "676d7bbe",
   "metadata": {},
   "outputs": [],
   "source": []
  },
  {
   "cell_type": "code",
   "execution_count": null,
   "id": "1a7cdfde",
   "metadata": {},
   "outputs": [],
   "source": []
  }
 ],
 "metadata": {
  "kernelspec": {
   "display_name": "Python 3 (ipykernel)",
   "language": "python",
   "name": "python3"
  },
  "language_info": {
   "codemirror_mode": {
    "name": "ipython",
    "version": 3
   },
   "file_extension": ".py",
   "mimetype": "text/x-python",
   "name": "python",
   "nbconvert_exporter": "python",
   "pygments_lexer": "ipython3",
   "version": "3.11.5"
  }
 },
 "nbformat": 4,
 "nbformat_minor": 5
}
